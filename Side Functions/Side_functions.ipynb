{
  "nbformat": 4,
  "nbformat_minor": 0,
  "metadata": {
    "colab": {
      "provenance": []
    },
    "kernelspec": {
      "name": "python3",
      "display_name": "Python 3"
    },
    "language_info": {
      "name": "python"
    }
  },
  "cells": [
    {
      "cell_type": "code",
      "execution_count": null,
      "metadata": {
        "id": "4h6x8UMz2qbM"
      },
      "outputs": [],
      "source": [
        "def get_competitions(area_code3):  # Insert 3 capital letters' code of the interested area\n",
        "  url = base_url.format(f\"/competitions?areaId={area_code3}\")\n",
        "\n",
        "  response = requests.get(url, auth = HTTPBasicAuth(username, password))\n",
        "\n",
        "  if response.ok:\n",
        "    return response.json()\n",
        "  else:\n",
        "    print(\"error\")"
      ]
    },
    {
      "cell_type": "code",
      "source": [
        "def get_seasons(competition_wyid):\n",
        "  url = base_url.format(f\"/competitions/{competition_wyid}/seasons\")\n",
        "\n",
        "  response = requests.get(url, auth = HTTPBasicAuth(username, password))\n",
        "\n",
        "  if response.ok:\n",
        "    return response.json()['seasons']\n",
        "  else:\n",
        "    print(\"error\")"
      ],
      "metadata": {
        "id": "FSzXg_I43rK_"
      },
      "execution_count": null,
      "outputs": []
    },
    {
      "cell_type": "code",
      "source": [
        "def get_teams(season_wyid):\n",
        "  url = base_url.format(f\"/seasons/{season_wyid}/teams\")\n",
        "  response = requests.get(url, auth = HTTPBasicAuth(username, password))\n",
        "\n",
        "  if response.ok:\n",
        "    return response.json()['teams']\n",
        "  else:\n",
        "    print(\"error\")"
      ],
      "metadata": {
        "id": "0-0oBWD23uEq"
      },
      "execution_count": null,
      "outputs": []
    },
    {
      "cell_type": "code",
      "source": [
        "def get_matches(team_wyid, season_wyid = ''):\n",
        "  url = base_url.format(f\"/teams/{team_wyid}/matches?seasonId={season_wyid}\")\n",
        "  response = requests.get(url, auth = HTTPBasicAuth(username, password))\n",
        "\n",
        "  if response.ok:\n",
        "    return response.json()['matches']\n",
        "  else:\n",
        "    print(\"error\")"
      ],
      "metadata": {
        "id": "_QbUonqw3uUC"
      },
      "execution_count": null,
      "outputs": []
    },
    {
      "cell_type": "code",
      "source": [
        "def get_events_per_match(match_wyid):\n",
        "\n",
        "  url = base_url.format(f\"/matches/{match_wyid}/events\")\n",
        "  response = requests.get(url, auth=HTTPBasicAuth(username = username, password=password))\n",
        "  if response.ok:\n",
        "    return response.json()['events']\n",
        "  else:\n",
        "    print('error')"
      ],
      "metadata": {
        "id": "GVI5ViJx3upT"
      },
      "execution_count": null,
      "outputs": []
    },
    {
      "cell_type": "code",
      "source": [
        "def get_advanced_stats_per_match(match_wyid):\n",
        "  url = base_url.format(f\"/matches/{match_wyid}/advancedstats\")\n",
        "  response = requests.get(url, auth=HTTPBasicAuth(username = username, password=password))\n",
        "  if response.ok:\n",
        "    return response.json()['general']\n",
        "  else:\n",
        "    print('error')"
      ],
      "metadata": {
        "id": "iFjXhzlc3u4b"
      },
      "execution_count": null,
      "outputs": []
    },
    {
      "cell_type": "code",
      "source": [
        "def get_squad_players(team_wyid):\n",
        "  url = base_url.format(f\"/teams/{team_wyid}/squad\")\n",
        "  response = requests.get(url, auth=HTTPBasicAuth(username = username, password=password))\n",
        "  if response.ok:\n",
        "    return response.json()['squad']\n",
        "  else:\n",
        "    print('error')"
      ],
      "metadata": {
        "id": "YTdrZLSh4RkL"
      },
      "execution_count": null,
      "outputs": []
    },
    {
      "cell_type": "code",
      "source": [
        "def get_player_advanced_stats(player_wyid, competition_wyid):\n",
        "  url = base_url.format(f\"/players/{player_wyid}/advancedstats?compId={competition_wyid}\")\n",
        "  response = requests.get(url, auth=HTTPBasicAuth(username = username, password=password))\n",
        "  if response.ok:\n",
        "    return response.json()['total']\n",
        "  else:\n",
        "    print('error')"
      ],
      "metadata": {
        "id": "4NWNy00n4Ruq"
      },
      "execution_count": null,
      "outputs": []
    },
    {
      "cell_type": "code",
      "source": [
        "def get_player_positions(player_wyid, competition_wyid):\n",
        "  url = base_url.format(f\"/players/{player_wyid}/advancedstats?compId={competition_wyid}\")\n",
        "  response = requests.get(url, auth=HTTPBasicAuth(username = username, password=password))\n",
        "  if response.ok:\n",
        "    return response.json()['positions']\n",
        "  else:\n",
        "    print('error')"
      ],
      "metadata": {
        "id": "onLXkwG74R6a"
      },
      "execution_count": null,
      "outputs": []
    },
    {
      "cell_type": "code",
      "source": [
        "def get_season_detail(season_wyid):\n",
        "  url = base_url.format(f\"/seasons/{season_wyid}\")\n",
        "  response = requests.get(url, auth=HTTPBasicAuth(username = username, password=password))\n",
        "  if response.ok:\n",
        "    return response.json()['name']\n",
        "  else:\n",
        "    print('error')"
      ],
      "metadata": {
        "id": "fZKd8wu-4SFy"
      },
      "execution_count": null,
      "outputs": []
    },
    {
      "cell_type": "code",
      "source": [
        "def get_match_detail(match_wyid):\n",
        "  url = base_url.format(f\"/matches/{match_wyid}\")\n",
        "  response = requests.get(url, auth=HTTPBasicAuth(username = username, password=password))\n",
        "  if response.ok:\n",
        "    return response.json()\n",
        "  else:\n",
        "    print('error')"
      ],
      "metadata": {
        "id": "-NuaaaQW4ShT"
      },
      "execution_count": null,
      "outputs": []
    },
    {
      "cell_type": "code",
      "source": [
        "def get_penalty_accuracy(team_wyid, season_wyid = ''):\n",
        "  penalties = []\n",
        "  for m in get_matches(team_wyid, season_wyid):\n",
        "    eventi = get_events_per_match(m['matchId'])\n",
        "    for e in eventi:\n",
        "      if e['type']['primary'] == 'penalty' and e['team']['id'] == team_wyid:\n",
        "        penalties.append(e)\n",
        "  penalties_df = pd.DataFrame(penalties)\n",
        "  penalty_goal = 0\n",
        "  total_penalty = len(penalties_df.index)\n",
        "  for index,p in penalties_df.iterrows():\n",
        "    if 'goal' in p['type']['secondary']:\n",
        "      penalty_goal +=1\n",
        "    if total_penalty > 0:\n",
        "      percentage = (penalty_goal/total_penalty) *100\n",
        "    else: percentage=0\n",
        "  return percentage"
      ],
      "metadata": {
        "id": "sqZcbWKI4lhz"
      },
      "execution_count": null,
      "outputs": []
    },
    {
      "cell_type": "code",
      "source": [
        "def get_shot_distance(shot_x, shot_y):\n",
        "  soccer_goal = {'x': 100, 'y':50}\n",
        "  shot_location = {'x':shot_x, 'y':shot_y}\n",
        "  third_point = {'x':shot_x, 'y':50}\n",
        "  shot_point_distance = np.absolute((shot_location['y']-third_point['y']))\n",
        "  soccer_point_distance = np.absolute((soccer_goal['x']-third_point['x']))\n",
        "  shot_soccer_distance = round(np.sqrt(pow(shot_point_distance, 2) + pow(soccer_point_distance, 2)) , 2)\n",
        "  return shot_soccer_distance"
      ],
      "metadata": {
        "id": "OVutMxao4l5y"
      },
      "execution_count": null,
      "outputs": []
    },
    {
      "cell_type": "code",
      "source": [
        "def get_distance(start_x, start_y, end_x, end_y):\n",
        "  starting_point = {'x': start_x, 'y': start_y}\n",
        "  ending_point = {'x': end_x, 'y': end_y}\n",
        "  third_point = {'x': start_x, 'y': end_y}\n",
        "  starting_point_distance = np.absolute((starting_point['y']-third_point['y']))\n",
        "  ending_point_distance = np.absolute((ending_point['x']-third_point['x']))\n",
        "  start_end_distance = round(np.sqrt(pow(starting_point_distance, 2) + pow(ending_point_distance, 2)) , 2)\n",
        "  return start_end_distance"
      ],
      "metadata": {
        "id": "TQs6T12vPWll"
      },
      "execution_count": null,
      "outputs": []
    }
  ]
}