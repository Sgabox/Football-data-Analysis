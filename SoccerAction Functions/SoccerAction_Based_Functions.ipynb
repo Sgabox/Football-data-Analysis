{
  "nbformat": 4,
  "nbformat_minor": 0,
  "metadata": {
    "colab": {
      "provenance": []
    },
    "kernelspec": {
      "name": "python3",
      "display_name": "Python 3"
    },
    "language_info": {
      "name": "python"
    }
  },
  "cells": [
    {
      "cell_type": "markdown",
      "source": [
        "To use wyscout with the package SoccerAction you have to set wyscout as your data provider with this cell"
      ],
      "metadata": {
        "id": "A-_lsYFwUano"
      }
    },
    {
      "cell_type": "code",
      "execution_count": null,
      "metadata": {
        "id": "s-HiabThUQvo"
      },
      "outputs": [],
      "source": [
        "from socceraction.data.wyscout import WyscoutLoader\n",
        "\n",
        "# set authentication credentials as environment variables\n",
        "import os\n",
        "os.environ[\"WY_USERNAME\"] = \"your_username\"\n",
        "os.environ[\"WY_PASSWORD\"] = \"your_password\"\n",
        "api = WyscoutLoader(getter=\"remote\")\n",
        "\n",
        "# or provide authentication credentials as a dictionary\n",
        "#api = WyscoutLoader(getter=\"remote\", creds={\"user\": \"\", \"passwd\": \"\"})"
      ]
    },
    {
      "cell_type": "markdown",
      "source": [
        "And this is for set the lenght of the field when you use spadl with SoccerAction"
      ],
      "metadata": {
        "id": "jTkLF_M4U64P"
      }
    },
    {
      "cell_type": "code",
      "source": [
        "import socceraction.spadl as spadl\n",
        "spadl.config.field_length : float = 100.0\n",
        "spadl.config.field_width : float = 100.0"
      ],
      "metadata": {
        "id": "E9f-uRAaVDKI"
      },
      "execution_count": null,
      "outputs": []
    },
    {
      "cell_type": "markdown",
      "source": [
        "# SoccerAction Functions"
      ],
      "metadata": {
        "id": "CfMCyJ9IUrJv"
      }
    },
    {
      "cell_type": "code",
      "source": [
        "def get_ball_recovery_socceraction(team_wyid, competition_wyid, season_wyid = ''):\n",
        "  shot = []\n",
        "  shots_df = pd.DataFrame(shot)\n",
        "  games = tq(api.games(competition_wyid, season_wyid))\n",
        "  for i, m in tq(games.iterrows(), desc = 'Progresso partite processate recupero palla', total = len(games)):\n",
        "    if m['home_team_id'] == team_wyid or m['away_team_id'] == team_wyid:\n",
        "      events = api.events(m['game_id'])\n",
        "      if m['home_team_id'] == team_wyid:\n",
        "        home_team_id = team_wyid\n",
        "      else:\n",
        "        home_team_id = m['home_team_id']\n",
        "      actions = spadl.wyscout.convert_to_actions(events, home_team_id)\n",
        "      actions = spadl.add_names(actions)\n",
        "      for j, e in actions.iterrows():\n",
        "        if (e['type_name'] == 'shot' and e ['team_id'] == team_wyid):\n",
        "          last_opponent = ((actions.loc[j::-1, 'team_id'] != team_wyid)).idxmax()\n",
        "          if j-last_opponent <= 7:\n",
        "            z = True\n",
        "            for x in range(j, last_opponent, -1):\n",
        "              if actions.loc[x, 'type_name'] == 'foul' or actions.loc[x, 'team_id'] != team_wyid:\n",
        "                z = False\n",
        "                break\n",
        "          else:\n",
        "            next\n",
        "        if z:\n",
        "          if actions.loc[last_opponent, 'end_x'] < 66:\n",
        "            if actions.loc[j, 'start_x'] - actions.loc[last_opponent, 'end_x'] >25:\n",
        "              if actions.loc[last_opponent, 'end_x'] < 38:\n",
        "                if actions.loc[j, 'time_seconds'] - actions.loc[last_opponent, 'time_seconds'] <= 15:\n",
        "                  e['shotType'] = 'CounterAttackShot'\n",
        "                  shot.append(e)\n",
        "                elif actions.loc[last_opponent, 'end_x'] > 38 and actions.loc[last_opponent, 'end_x'] < 66:\n",
        "                  if actions.loc[i, 'time_seconds'] - actions.loc[last_opponent, 'time_seconds'] <= 12:\n",
        "                    e['shotType'] = 'CounterAttackShot'\n",
        "                    shot.append(e)\n",
        "          else:\n",
        "            if j-last_opponent <= 4 and actions.loc[last_opponent, 'type_name'] == 'interception':\n",
        "              if 100 - actions.loc[last_opponent, 'end_x'] <=25:\n",
        "                e['shotType'] = 'BallRecoveryShot'\n",
        "                shot.append(e)\n",
        "\n",
        "\n",
        "\n",
        "\n",
        "\n",
        "\n",
        "\n",
        "  shots_df = pd.DataFrame(shot)\n",
        "  return shots_df"
      ],
      "metadata": {
        "id": "j2wE5yDrUud6"
      },
      "execution_count": null,
      "outputs": []
    },
    {
      "cell_type": "code",
      "source": [
        "def get_corner_kick_schema_socceraction(team_wyid, competition_wyid, season_wyid = ''):\n",
        "  shot = []\n",
        "  shots_df = pd.DataFrame(shot)\n",
        "  games = api.games(competition_wyid, season_wyid)\n",
        "  for i, m in tq(games.iterrows(), desc = 'Progresso partite processate calcio d\\'angolo indiretto', total = len(games)):\n",
        "    if m['home_team_id'] == team_wyid or m['away_team_id'] == team_wyid:\n",
        "      events = api.events(m['game_id'])\n",
        "      if m['home_team_id'] == team_wyid:\n",
        "        home_team_id = team_wyid\n",
        "      else:\n",
        "        home_team_id = m['home_team_id']\n",
        "      actions = spadl.wyscout.convert_to_actions(events, home_team_id)\n",
        "      actions = spadl.add_names(actions)\n",
        "      for j, e in actions.iterrows():\n",
        "        if (e['type_name'] == 'shot' and e ['team_id'] == team_wyid):\n",
        "          first_corner = ((actions.loc[j::-1, 'type_name'].eq('corner_crossed')) & (actions.loc[j::-1, 'team_id'].eq(team_wyid))).idxmax()\n",
        "          first_short = ((actions.loc[j::-1, 'type_name'].eq('corner_short')) & (actions.loc[j::-1, 'team_id'].eq(team_wyid))).idxmax()\n",
        "          if j-first_corner < j-first_short:\n",
        "            if actions.loc[first_corner, 'result_name'] == 'success':\n",
        "              if actions.loc[first_corner +1, 'type_name'] == 'shot':\n",
        "                e['shotType'] = 'IndirectCornerKickWithCross'\n",
        "                shot.append(e)\n",
        "              elif actions.loc[first_corner +1, 'type_name'] == 'dribble' and actions.loc[first_corner +2, 'type_name'] == 'shot':\n",
        "                e['shotType'] = 'IndirectCornerKickWithCrossAndBounce'\n",
        "                shot.append(e)\n",
        "              elif ((actions.loc[first_corner +1, 'type_name'] == 'dribble') or (actions.loc[first_corner +1, 'type_name'] == 'pass')) and ((actions.loc[first_corner +2, 'type_name'] == 'dribble') or (actions.loc[first_corner +2, 'type_name'] == 'pass')) and actions.loc[first_corner +3, 'type_name'] == 'shot':\n",
        "                e['shotType'] = 'IndirectCornerKickWithCrossAndBank'\n",
        "                shot.append(e)\n",
        "          else:\n",
        "            if actions.loc[first_short, 'result_name'] == 'success':\n",
        "              if ((actions.loc[first_short +1, 'type_name'] == 'cross') or (actions.loc[first_short +1, 'type_name'] == 'pass')) and actions.loc[first_short +2, 'type_name'] == 'shot':\n",
        "                e['shotType'] = 'IndirectCornerKickWithTouch'\n",
        "                shot.append(e)\n",
        "              elif ((actions.loc[first_short +1, 'type_name'] == 'cross') or (actions.loc[first_short +1, 'type_name'] == 'pass')) and actions.loc[first_short +3, 'type_name'] == 'shot':\n",
        "                e['shotType'] = 'IndirectCornerKickWithTwoTouches'\n",
        "                shot.append(e)\n",
        "          if j-first_corner > 5 or j-first_short > 5:\n",
        "            c = 0\n",
        "            if j-first_corner < j-first_short:\n",
        "              for x in range(j, first_corner, -1):\n",
        "                if actions.loc[x, 'team_id'] != team_wyid:\n",
        "                  break\n",
        "                else:\n",
        "                  c += 1\n",
        "              if c > 4:\n",
        "                e['shotType'] = 'IndirectCornerKickCrossedWithBounces'\n",
        "                shot.append(e)\n",
        "                break\n",
        "            else:\n",
        "              for x in range(j, first_corner, -1):\n",
        "                if actions.loc[x, 'team_id'] != team_wyid:\n",
        "                  break\n",
        "                else:\n",
        "                  c += 1\n",
        "              if c > 4:\n",
        "                e['shotType'] = 'IndirectCornerKickShortWithBounces'\n",
        "                shot.append(e)\n",
        "                break\n",
        "\n",
        "\n",
        "  shots_df = pd.DataFrame(shot)\n",
        "  return shots_df"
      ],
      "metadata": {
        "id": "cfZBOHQmVRso"
      },
      "execution_count": null,
      "outputs": []
    },
    {
      "cell_type": "code",
      "source": [
        "def get_free_kick_schema_socceraction(team_wyid, competition_wyid, season_wyid = ''):\n",
        "  shot = []\n",
        "  shots_df = pd.DataFrame(shot)\n",
        "  games = api.games(competition_wyid, season_wyid)\n",
        "  for i, m in tq(games.iterrows(), desc = 'Progresso partite processate calcio d\\'angolo indiretto', total = len(games)):\n",
        "    if m['home_team_id'] == team_wyid or m['away_team_id'] == team_wyid:\n",
        "      events = api.events(m['game_id'])\n",
        "      if m['home_team_id'] == team_wyid:\n",
        "        home_team_id = team_wyid\n",
        "      else:\n",
        "        home_team_id = m['home_team_id']\n",
        "      actions = spadl.wyscout.convert_to_actions(events, home_team_id)\n",
        "      actions = spadl.add_names(actions)\n",
        "      for j, e in actions.iterrows():\n",
        "        if (e['type_name'] == 'shot' and e ['team_id'] == team_wyid):\n",
        "          first_free_kick = ((actions.loc[j::-1, 'type_name'].eq('freekick_crossed')) & (actions.loc[j::-1, 'team_id'].eq(team_wyid))).idxmax()\n",
        "          first_short = ((actions.loc[j::-1, 'type_name'].eq('freekick_short')) & (actions.loc[j::-1, 'team_id'].eq(team_wyid))).idxmax()\n",
        "          if j-first_free_kick < j-first_short:\n",
        "            if actions.loc[first_free_kick, 'result_name'] == 'success':\n",
        "              if actions.loc[first_free_kick +1, 'type_name'] == 'shot':\n",
        "                e['shotType'] = 'IndirectFreeKickWithCross'\n",
        "                shot.append(e)\n",
        "              elif actions.loc[first_free_kick +1, 'type_name'] == 'dribble' and actions.loc[first_free_kick +2, 'type_name'] == 'shot':\n",
        "                e['shotType'] = 'IndirectFreeKickWithCrossAndBounce'\n",
        "                shot.append(e)\n",
        "              elif ((actions.loc[first_free_kick +1, 'type_name'] == 'dribble') or (actions.loc[first_free_kick +1, 'type_name'] == 'pass')) and ((actions.loc[first_free_kick +2, 'type_name'] == 'dribble') or (actions.loc[first_free_kick +2, 'type_name'] == 'pass')) and actions.loc[first_free_kick +3, 'type_name'] == 'shot':\n",
        "                e['shotType'] = 'IndirectFreeKickWithCrossAndBank'\n",
        "                shot.append(e)\n",
        "          else:\n",
        "            if actions.loc[first_short, 'result_name'] == 'success':\n",
        "              if ((actions.loc[first_short +1, 'type_name'] == 'cross') or (actions.loc[first_short +1, 'type_name'] == 'pass')) and actions.loc[first_short +2, 'type_name'] == 'shot':\n",
        "                e['shotType'] = 'IndirectFreeKickWithTouch'\n",
        "                shot.append(e)\n",
        "              elif ((actions.loc[first_short +1, 'type_name'] == 'cross') or (actions.loc[first_short +1, 'type_name'] == 'pass')) and actions.loc[first_short +3, 'type_name'] == 'shot':\n",
        "                e['shotType'] = 'IndirectFreeKickWithTwoTouches'\n",
        "                shot.append(e)\n",
        "          if j-first_free_kick > 4 or j-first_short > 4:\n",
        "            c = 0\n",
        "            if j-first_free_kick < j-first_short:\n",
        "              for x in range(j, first_free_kick, -1):\n",
        "                if actions.loc[x, 'team_id'] != team_wyid:\n",
        "                  break\n",
        "                else:\n",
        "                  c += 1\n",
        "                if c > 4:\n",
        "                  e['shotType'] = 'IndirectCornerKickCrossedWithBounces'\n",
        "                  shot.append(e)\n",
        "                  break\n",
        "            else:\n",
        "              for x in range(j, first_free_kick, -1):\n",
        "                if actions.loc[x, 'team_id'] != team_wyid:\n",
        "                  break\n",
        "                else:\n",
        "                  c += 1\n",
        "                if c > 4:\n",
        "                  e['shotType'] = 'IndirectCornerKickShortWithBounces'\n",
        "                  shot.append(e)\n",
        "                  break\n",
        "\n",
        "\n",
        "  shots_df = pd.DataFrame(shot)\n",
        "  return shots_df"
      ],
      "metadata": {
        "id": "-5PKG1R0VSAf"
      },
      "execution_count": null,
      "outputs": []
    },
    {
      "cell_type": "code",
      "source": [
        "def get_throw_in_shot_socceraction(team_wyid, competition_wyid, season_wyid = ''):\n",
        "  shot = []\n",
        "  shots_df = pd.DataFrame(shot)\n",
        "  games = api.games(competition_wyid, season_wyid)\n",
        "  for i, m in tq(games.iterrows(), desc = 'Progresso partite processate calcio d\\'angolo indiretto', total = len(games)):\n",
        "    if m['home_team_id'] == team_wyid or m['away_team_id'] == team_wyid:\n",
        "      events = api.events(m['game_id'])\n",
        "      if m['home_team_id'] == team_wyid:\n",
        "        home_team_id = team_wyid\n",
        "      else:\n",
        "        home_team_id = m['home_team_id']\n",
        "      actions = spadl.wyscout.convert_to_actions(events, home_team_id)\n",
        "      actions = spadl.add_names(actions)\n",
        "      for j, e in actions.iterrows():\n",
        "        if e['type_name'] == 'shot' and e['team_id'] == team_wyid:\n",
        "          first_throw_in = (actions.loc[j::-1, 'type_name'].eq('throw_in') & actions.loc[j::-1, 'team_id'].eq(team_wyid)).idxmax()\n",
        "          if i- first_throw_in == 0:\n",
        "            next\n",
        "          elif j - first_throw_in <= 6:\n",
        "            z = True\n",
        "            for x in range(j, first_throw_in, -1):\n",
        "                if actions.loc[x, 'team_id'] != team_wyid:\n",
        "                  z = False\n",
        "                  break\n",
        "            if z:\n",
        "                e['shotType'] = 'shotAfterThrowIn'\n",
        "                shot.append(e)\n",
        "\n",
        "\n",
        "\n",
        "\n",
        "  shots_df = pd.DataFrame(shot)\n",
        "  return shots_df"
      ],
      "metadata": {
        "id": "uH3yGW3QVSO5"
      },
      "execution_count": null,
      "outputs": []
    },
    {
      "cell_type": "code",
      "source": [
        "def get_positional_attacks_socceraction(team_wyid, competition_wyid, season_wyid = ''):\n",
        "  shot = []\n",
        "  shots_df = pd.DataFrame(shot)\n",
        "  games = api.games(competition_wyid, season_wyid)\n",
        "  for i, m in tq(games.iterrows(), desc = 'Progresso partite processate calcio d\\'angolo indiretto', total = len(games)):\n",
        "    if m['home_team_id'] == team_wyid or m['away_team_id'] == team_wyid:\n",
        "      events = api.events(m['game_id'])\n",
        "      if m['home_team_id'] == team_wyid:\n",
        "        home_team_id = team_wyid\n",
        "      else:\n",
        "        home_team_id = m['home_team_id']\n",
        "      actions = spadl.wyscout.convert_to_actions(events, home_team_id)\n",
        "      actions = spadl.add_names(actions)\n",
        "      for j, e in actions.iterrows():\n",
        "        z = 0\n",
        "        if e['type_name'] == 'shot' and e['team_id'] == team_wyid: #and 'shot_after_free_kick' not in e['secondary'] and 'shot_after_corner' not in e['secondary'] and 'shot_after_throw_in' not in e['secondary']\n",
        "          last_opponent = (actions.loc[j::-1, 'team_id'] != team_wyid).idxmax()\n",
        "          for x in range(i, last_opponent, -1):\n",
        "            if (actions.loc[x, 'team_id'] == team_wyid and \\\n",
        "              (actions.loc[x, 'type_name'] != 'throw_in' and actions.loc[x, 'type_name'] != 'freekick_crossed' and actions.loc[x, 'type_name'] != 'freekick_short' and actions.loc[x, 'type_name'] != 'corner_crossed' and actions.loc[x, 'type_name'] != 'corner_short')):\n",
        "              j +=1\n",
        "              if j>6:\n",
        "                e['shotType'] = 'positionalAttack'\n",
        "                shot.append(e)\n",
        "                break\n",
        "            else:\n",
        "              j = 0\n",
        "              break\n",
        "\n",
        "\n",
        "  shots_df = pd.DataFrame(shot)\n",
        "  return shots_df"
      ],
      "metadata": {
        "id": "tmcYLkk0VSl_"
      },
      "execution_count": null,
      "outputs": []
    },
    {
      "cell_type": "code",
      "source": [
        "def get_free_kick_shot_socceraction(team_wyid, competition_wyid, season_wyid = ''):\n",
        "  shot = []\n",
        "  shots_df = pd.DataFrame(shot)\n",
        "  games = api.games(competition_wyid, season_wyid)\n",
        "  for i, m in tq(games.iterrows(), desc = 'Progresso partite processate calcio d\\'angolo indiretto', total = len(games)):\n",
        "    if m['home_team_id'] == team_wyid or m['away_team_id'] == team_wyid:\n",
        "      events = api.events(m['game_id'])\n",
        "      if m['home_team_id'] == team_wyid:\n",
        "        home_team_id = team_wyid\n",
        "      else:\n",
        "        home_team_id = m['home_team_id']\n",
        "      actions = spadl.wyscout.convert_to_actions(events, home_team_id)\n",
        "      actions = spadl.add_names(actions)\n",
        "      for j, e in actions.iterrows():\n",
        "        if e['type_name'] == 'shot_freekick' and e['team_id'] == team_wyid:\n",
        "          e['shotType'] = 'DirectFreeKick'\n",
        "          shot.append(e)\n",
        "\n",
        "\n",
        "  shots_df = pd.DataFrame(shot)\n",
        "  return shots_df"
      ],
      "metadata": {
        "id": "EgxoGDBjVS4_"
      },
      "execution_count": null,
      "outputs": []
    },
    {
      "cell_type": "code",
      "source": [
        "def get_penalty_shot_socceraction(team_wyid, competition_wyid, season_wyid = ''):\n",
        "  shot = []\n",
        "  shots_df = pd.DataFrame(shot)\n",
        "  games = api.games(competition_wyid, season_wyid)\n",
        "  for i, m in tq(games.iterrows(), desc = 'Progresso partite processate calcio d\\'angolo indiretto', total = len(games)):\n",
        "    if m['home_team_id'] == team_wyid or m['away_team_id'] == team_wyid:\n",
        "      events = api.events(m['game_id'])\n",
        "      if m['home_team_id'] == team_wyid:\n",
        "        home_team_id = team_wyid\n",
        "      else:\n",
        "        home_team_id = m['home_team_id']\n",
        "      actions = spadl.wyscout.convert_to_actions(events, home_team_id)\n",
        "      actions = spadl.add_names(actions)\n",
        "      for j, e in actions.iterrows():\n",
        "        if e['type_name'] == 'shot_penalty' and e['team_id'] == team_wyid:\n",
        "          e['shotType'] = 'Penalty'\n",
        "          shot.append(e)\n",
        "\n",
        "\n",
        "  shots_df = pd.DataFrame(shot)\n",
        "  return shots_df"
      ],
      "metadata": {
        "id": "rzReIPnlVTJx"
      },
      "execution_count": null,
      "outputs": []
    },
    {
      "cell_type": "code",
      "source": [
        "def get_own_socceraction(team_wyid, competition_wyid, season_wyid = ''):\n",
        "  shot = []\n",
        "  shots_df = pd.DataFrame(shot)\n",
        "  games = api.games(competition_wyid, season_wyid)\n",
        "  for i, m in tq(games.iterrows(), desc = 'Progresso partite processate calcio d\\'angolo indiretto', total = len(games)):\n",
        "    if m['home_team_id'] == team_wyid or m['away_team_id'] == team_wyid:\n",
        "      events = api.events(m['game_id'])\n",
        "      if m['home_team_id'] == team_wyid:\n",
        "        home_team_id = team_wyid\n",
        "      else:\n",
        "        home_team_id = m['home_team_id']\n",
        "      actions = spadl.wyscout.convert_to_actions(events, home_team_id)\n",
        "      actions = spadl.add_names(actions)\n",
        "      for j, e in actions.iterrows():\n",
        "        if e['type_name'] == 'shot' and e['team_id'] == team_wyid:\n",
        "          if['result_name'] == 'own_goal':\n",
        "            e['shotType'] = 'OwnGoal'\n",
        "            shot.append(e)\n",
        "            next\n",
        "\n",
        "\n",
        "  shots_df = pd.DataFrame(shot)\n",
        "  return shots_df"
      ],
      "metadata": {
        "id": "UApLkTx2VTbX"
      },
      "execution_count": null,
      "outputs": []
    },
    {
      "cell_type": "code",
      "source": [],
      "metadata": {
        "id": "iDwsJgsoVTuP"
      },
      "execution_count": null,
      "outputs": []
    },
    {
      "cell_type": "code",
      "source": [],
      "metadata": {
        "id": "QkIN2xfwVUFP"
      },
      "execution_count": null,
      "outputs": []
    }
  ]
}